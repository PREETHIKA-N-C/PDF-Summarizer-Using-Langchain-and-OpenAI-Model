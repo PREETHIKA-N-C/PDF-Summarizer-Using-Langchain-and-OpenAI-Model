{
  "nbformat": 4,
  "nbformat_minor": 0,
  "metadata": {
    "colab": {
      "provenance": []
    },
    "kernelspec": {
      "name": "python3",
      "display_name": "Python 3"
    },
    "language_info": {
      "name": "python"
    }
  },
  "cells": [
    {
      "cell_type": "code",
      "execution_count": 25,
      "metadata": {
        "id": "A72hyG9cbbgS"
      },
      "outputs": [],
      "source": [
        "!pip install -q openai pypdf tiktoken langchain"
      ]
    },
    {
      "cell_type": "code",
      "source": [
        "import os\n",
        "os.environ['OPENAI_API_KEY'] = 'OPENAI_API_KEY'"
      ],
      "metadata": {
        "id": "CF1u_kiGpkeO"
      },
      "execution_count": 32,
      "outputs": []
    },
    {
      "cell_type": "code",
      "source": [
        "import tiktoken\n",
        "#Returns the number of tokens in a text string\n",
        "def num_tokens_in_the_string(string: str, encoding_name: str) -> int:\n",
        "    encoding = tiktoken.get_encoding(encoding_name)\n",
        "    num_tokens = len(encoding.encode(string))\n",
        "    return num_tokens\n",
        "\n",
        "num_tokens_in_the_string(\"Hey there!\", \"gpt2\")"
      ],
      "metadata": {
        "colab": {
          "base_uri": "https://localhost:8080/"
        },
        "id": "kQ77o04Rr3eN",
        "outputId": "96ccafe5-ee09-4956-c51b-1b200e79d761"
      },
      "execution_count": 38,
      "outputs": [
        {
          "output_type": "execute_result",
          "data": {
            "text/plain": [
              "3"
            ]
          },
          "metadata": {},
          "execution_count": 38
        }
      ]
    },
    {
      "cell_type": "code",
      "source": [
        "from langchain import OpenAI, PromptTemplate\n",
        "from langchain.chains.summarize import load_summarize_chain\n",
        "from langchain.document_loaders import PyPDFLoader"
      ],
      "metadata": {
        "id": "8vTlHs4-vbEd"
      },
      "execution_count": 34,
      "outputs": []
    },
    {
      "cell_type": "code",
      "source": [
        "llm = OpenAI(temperature=0)"
      ],
      "metadata": {
        "id": "c50Wzxccxd2L"
      },
      "execution_count": 35,
      "outputs": []
    },
    {
      "cell_type": "code",
      "source": [
        "#Returns the uploaded pdf summary\n",
        "def pdf_summarizer(pdf_file_path):\n",
        "    loader = PyPDFLoader(pdf_file_path)\n",
        "    pdf = loader.load_and_split()\n",
        "    chain = load_summarize_chain(llm, chain_type=\"map_reduce\")\n",
        "    summary = chain.run(pdf)\n",
        "    return summary"
      ],
      "metadata": {
        "id": "XWuMiIMxx1K1"
      },
      "execution_count": 36,
      "outputs": []
    },
    {
      "cell_type": "code",
      "source": [
        "summarizer = pdf_summarizer(\"/content/Elasticsearch.pdf\")\n",
        "summarizer"
      ],
      "metadata": {
        "id": "Dlj4fy_i63PT"
      },
      "execution_count": null,
      "outputs": []
    }
  ]
}